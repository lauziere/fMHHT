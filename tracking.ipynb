{
 "cells": [
  {
   "cell_type": "code",
   "execution_count": null,
   "metadata": {
    "ExecuteTime": {
     "end_time": "2021-11-10T22:20:54.098450Z",
     "start_time": "2021-11-10T22:20:52.431717Z"
    }
   },
   "outputs": [],
   "source": [
    "import os\n",
    "import numpy as np\n",
    "import plotly.graph_objects as go\n",
    "import plotly.io as pio\n",
    "\n",
    "\n",
    "from config import *\n",
    "from util import *\n",
    "from plotting import *"
   ]
  },
  {
   "cell_type": "code",
   "execution_count": null,
   "metadata": {
    "ExecuteTime": {
     "end_time": "2021-11-10T22:20:54.698501Z",
     "start_time": "2021-11-10T22:20:54.100631Z"
    }
   },
   "outputs": [],
   "source": [
    "for key in config:\n",
    "    print(key, ':', config[key])\n",
    "    \n",
    "tracker = MHHT_Murty(config) if config['Solver'] == 'Murty' else MHHT_BTP(config)"
   ]
  },
  {
   "cell_type": "code",
   "execution_count": null,
   "metadata": {
    "ExecuteTime": {
     "end_time": "2021-11-10T22:23:07.377393Z",
     "start_time": "2021-11-10T22:20:54.700625Z"
    },
    "scrolled": false
   },
   "outputs": [],
   "source": [
    "tracker.track_notebook()"
   ]
  }
 ],
 "metadata": {
  "kernelspec": {
   "display_name": "Python 3",
   "language": "python",
   "name": "python3"
  },
  "language_info": {
   "codemirror_mode": {
    "name": "ipython",
    "version": 3
   },
   "file_extension": ".py",
   "mimetype": "text/x-python",
   "name": "python",
   "nbconvert_exporter": "python",
   "pygments_lexer": "ipython3",
   "version": "3.6.5"
  }
 },
 "nbformat": 4,
 "nbformat_minor": 2
}
